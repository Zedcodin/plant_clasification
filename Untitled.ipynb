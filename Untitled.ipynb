{
 "cells": [
  {
   "cell_type": "code",
   "execution_count": 2,
   "id": "a987843d-acb2-451a-99c9-14e9e22a1857",
   "metadata": {},
   "outputs": [
    {
     "data": {
      "text/plain": [
       "[<PIL.JpegImagePlugin.JpegImageFile image mode=RGB size=894x578>,\n",
       " <PIL.JpegImagePlugin.JpegImageFile image mode=RGB size=1500x1045>,\n",
       " <PIL.JpegImagePlugin.JpegImageFile image mode=RGB size=1500x993>,\n",
       " <PIL.JpegImagePlugin.JpegImageFile image mode=RGB size=1220x1280>,\n",
       " <PIL.JpegImagePlugin.JpegImageFile image mode=RGB size=1707x2560>]"
      ]
     },
     "execution_count": 2,
     "metadata": {},
     "output_type": "execute_result"
    }
   ],
   "source": [
    "from PIL import Image\n",
    "import os\n",
    "\n",
    "def load_images_from_folder(folder_path):\n",
    "    images = []\n",
    "    for filename in os.listdir(folder_path):\n",
    "        if filename.endswith(\".jpg\") or filename.endswith(\".jpeg\"):  # Check if the file is a JPEG image\n",
    "            img_path = os.path.join(folder_path, filename)\n",
    "            img = Image.open(img_path)\n",
    "            images.append(img)\n",
    "    return images\n",
    "\n",
    "# Example usage\n",
    "folder_path = 'images'  # Replace with the path to your folder\n",
    "image_list = load_images_from_folder(folder_path)\n",
    "\n",
    "image_list"
   ]
  },
  {
   "cell_type": "code",
   "execution_count": 19,
   "id": "88d35142-53c4-4cd7-9e68-719ae5fa2a9d",
   "metadata": {},
   "outputs": [
    {
     "data": {
      "text/plain": [
       "<pinecone.grpc.index_grpc.GRPCIndex at 0x18cdb40c0b0>"
      ]
     },
     "execution_count": 19,
     "metadata": {},
     "output_type": "execute_result"
    }
   ],
   "source": [
    "# pip install \"pinecone[grpc]\"\n",
    "from pinecone.grpc import PineconeGRPC as Pinecone\n",
    "\n",
    "pc = Pinecone(api_key=\"0fb75dc6-65d5-4784-a6ae-53f28b0c198f\")\n",
    "index = pc.Index(\"clip-vit-base-patch32\")\n",
    "\n",
    "index"
   ]
  },
  {
   "cell_type": "code",
   "execution_count": 6,
   "id": "e6967932-0862-48d9-a7d1-79921994e974",
   "metadata": {},
   "outputs": [
    {
     "name": "stdout",
     "output_type": "stream",
     "text": [
      "Collecting protoc_gen_openapiv2\n",
      "  Downloading protoc_gen_openapiv2-0.0.1-py3-none-any.whl.metadata (1.5 kB)\n",
      "Requirement already satisfied: googleapis-common-protos in c:\\users\\joshuasimwawa\\appdata\\local\\programs\\python\\python312\\lib\\site-packages (from protoc_gen_openapiv2) (1.65.0)\n",
      "Requirement already satisfied: protobuf>=4.21.0 in c:\\users\\joshuasimwawa\\appdata\\local\\programs\\python\\python312\\lib\\site-packages (from protoc_gen_openapiv2) (4.25.4)\n",
      "Downloading protoc_gen_openapiv2-0.0.1-py3-none-any.whl (7.9 kB)\n",
      "Installing collected packages: protoc_gen_openapiv2\n",
      "Successfully installed protoc_gen_openapiv2-0.0.1\n"
     ]
    }
   ],
   "source": [
    "!pip install protoc_gen_openapiv2"
   ]
  },
  {
   "cell_type": "code",
   "execution_count": 14,
   "id": "f4135d85-9d02-4f6e-8db1-8aa58c4b1a70",
   "metadata": {},
   "outputs": [],
   "source": [
    "from pinecone import Pinecone, ServerlessSpec"
   ]
  },
  {
   "cell_type": "code",
   "execution_count": 10,
   "id": "1fb79d2c-85b4-4867-bcb4-48bcc292b5f5",
   "metadata": {},
   "outputs": [],
   "source": [
    "#pc.delete_index(\"clip-vit-base-patch32\")"
   ]
  },
  {
   "cell_type": "code",
   "execution_count": 12,
   "id": "6327a7b9-f339-4a4a-a09e-5b81e2d3622e",
   "metadata": {},
   "outputs": [],
   "source": [
    "# Create Index\n",
    "index_name = \"clip-vit-base-patch32\""
   ]
  },
  {
   "cell_type": "code",
   "execution_count": 15,
   "id": "abf1f3b0-8ac0-43bd-9bcf-d87db21ab28d",
   "metadata": {},
   "outputs": [],
   "source": [
    "if not pc.has_index(index_name):\n",
    "  pc.create_index(\n",
    "      name=index_name,\n",
    "      dimension=512,\n",
    "      metric=\"cosine\",\n",
    "      spec=ServerlessSpec(\n",
    "          cloud='aws',\n",
    "          region='us-east-1'\n",
    "      )\n",
    "  )\n",
    "\n",
    "index = pc.Index(index_name)\n"
   ]
  },
  {
   "cell_type": "code",
   "execution_count": 20,
   "id": "a764f576-606e-46ff-abf6-be764e68c91b",
   "metadata": {},
   "outputs": [],
   "source": [
    "from datasets import load_dataset\n"
   ]
  },
  {
   "cell_type": "code",
   "execution_count": 21,
   "id": "c5c9e201-629b-4058-8d95-35ef27ad0d08",
   "metadata": {},
   "outputs": [
    {
     "data": {
      "application/vnd.jupyter.widget-view+json": {
       "model_id": "29a436bf19ee40b6b9ae027418e36158",
       "version_major": 2,
       "version_minor": 0
      },
      "text/plain": [
       "Downloading data:   0%|          | 0.00/38.6M [00:00<?, ?B/s]"
      ]
     },
     "metadata": {},
     "output_type": "display_data"
    },
    {
     "data": {
      "application/vnd.jupyter.widget-view+json": {
       "model_id": "f776829fe6794fdab6b0dc1711aa0a2a",
       "version_major": 2,
       "version_minor": 0
      },
      "text/plain": [
       "Generating train split:   0%|          | 0/21 [00:00<?, ? examples/s]"
      ]
     },
     "metadata": {},
     "output_type": "display_data"
    }
   ],
   "source": [
    "# Embed data\n",
    "\n",
    "data = load_dataset(\n",
    "    \"jamescalam/image-text-demo\",\n",
    "    split=\"train\"\n",
    ")"
   ]
  },
  {
   "cell_type": "code",
   "execution_count": 3,
   "id": "503c4bec-bb07-4b1e-bb70-abffe175e448",
   "metadata": {},
   "outputs": [
    {
     "name": "stdout",
     "output_type": "stream",
     "text": [
      "Collecting pinecone\n",
      "  Downloading pinecone-5.1.0-py3-none-any.whl.metadata (19 kB)\n",
      "Requirement already satisfied: datasets in c:\\users\\joshuasimwawa\\appdata\\local\\programs\\python\\python312\\lib\\site-packages (2.21.0)\n",
      "Collecting transformers\n",
      "  Downloading transformers-4.44.2-py3-none-any.whl.metadata (43 kB)\n",
      "Requirement already satisfied: certifi>=2019.11.17 in c:\\users\\joshuasimwawa\\appdata\\local\\programs\\python\\python312\\lib\\site-packages (from pinecone) (2024.8.30)\n",
      "Collecting pinecone-plugin-inference<2.0.0,>=1.0.3 (from pinecone)\n",
      "  Downloading pinecone_plugin_inference-1.0.3-py3-none-any.whl.metadata (2.2 kB)\n",
      "Collecting pinecone-plugin-interface<0.0.8,>=0.0.7 (from pinecone)\n",
      "  Downloading pinecone_plugin_interface-0.0.7-py3-none-any.whl.metadata (1.2 kB)\n",
      "Requirement already satisfied: tqdm>=4.64.1 in c:\\users\\joshuasimwawa\\appdata\\local\\programs\\python\\python312\\lib\\site-packages (from pinecone) (4.66.5)\n",
      "Requirement already satisfied: typing-extensions>=3.7.4 in c:\\users\\joshuasimwawa\\appdata\\local\\programs\\python\\python312\\lib\\site-packages (from pinecone) (4.12.2)\n",
      "Requirement already satisfied: urllib3>=1.26.5 in c:\\users\\joshuasimwawa\\appdata\\local\\programs\\python\\python312\\lib\\site-packages (from pinecone) (2.2.2)\n",
      "Requirement already satisfied: filelock in c:\\users\\joshuasimwawa\\appdata\\local\\programs\\python\\python312\\lib\\site-packages (from datasets) (3.16.0)\n",
      "Requirement already satisfied: numpy>=1.17 in c:\\users\\joshuasimwawa\\appdata\\local\\programs\\python\\python312\\lib\\site-packages (from datasets) (1.26.4)\n",
      "Requirement already satisfied: pyarrow>=15.0.0 in c:\\users\\joshuasimwawa\\appdata\\local\\programs\\python\\python312\\lib\\site-packages (from datasets) (17.0.0)\n",
      "Requirement already satisfied: dill<0.3.9,>=0.3.0 in c:\\users\\joshuasimwawa\\appdata\\local\\programs\\python\\python312\\lib\\site-packages (from datasets) (0.3.8)\n",
      "Requirement already satisfied: pandas in c:\\users\\joshuasimwawa\\appdata\\local\\programs\\python\\python312\\lib\\site-packages (from datasets) (2.2.2)\n",
      "Requirement already satisfied: requests>=2.32.2 in c:\\users\\joshuasimwawa\\appdata\\local\\programs\\python\\python312\\lib\\site-packages (from datasets) (2.32.3)\n",
      "Requirement already satisfied: xxhash in c:\\users\\joshuasimwawa\\appdata\\local\\programs\\python\\python312\\lib\\site-packages (from datasets) (3.5.0)\n",
      "Requirement already satisfied: multiprocess in c:\\users\\joshuasimwawa\\appdata\\local\\programs\\python\\python312\\lib\\site-packages (from datasets) (0.70.16)\n",
      "Requirement already satisfied: fsspec<=2024.6.1,>=2023.1.0 in c:\\users\\joshuasimwawa\\appdata\\local\\programs\\python\\python312\\lib\\site-packages (from fsspec[http]<=2024.6.1,>=2023.1.0->datasets) (2024.6.1)\n",
      "Requirement already satisfied: aiohttp in c:\\users\\joshuasimwawa\\appdata\\local\\programs\\python\\python312\\lib\\site-packages (from datasets) (3.10.5)\n",
      "Requirement already satisfied: huggingface-hub>=0.21.2 in c:\\users\\joshuasimwawa\\appdata\\local\\programs\\python\\python312\\lib\\site-packages (from datasets) (0.24.6)\n",
      "Requirement already satisfied: packaging in c:\\users\\joshuasimwawa\\appdata\\local\\programs\\python\\python312\\lib\\site-packages (from datasets) (24.1)\n",
      "Requirement already satisfied: pyyaml>=5.1 in c:\\users\\joshuasimwawa\\appdata\\local\\programs\\python\\python312\\lib\\site-packages (from datasets) (5.4.1)\n",
      "Requirement already satisfied: regex!=2019.12.17 in c:\\users\\joshuasimwawa\\appdata\\local\\programs\\python\\python312\\lib\\site-packages (from transformers) (2024.7.24)\n",
      "Requirement already satisfied: safetensors>=0.4.1 in c:\\users\\joshuasimwawa\\appdata\\local\\programs\\python\\python312\\lib\\site-packages (from transformers) (0.4.5)\n",
      "Collecting tokenizers<0.20,>=0.19 (from transformers)\n",
      "  Downloading tokenizers-0.19.1-cp312-none-win_amd64.whl.metadata (6.9 kB)\n",
      "Requirement already satisfied: aiohappyeyeballs>=2.3.0 in c:\\users\\joshuasimwawa\\appdata\\local\\programs\\python\\python312\\lib\\site-packages (from aiohttp->datasets) (2.4.0)\n",
      "Requirement already satisfied: aiosignal>=1.1.2 in c:\\users\\joshuasimwawa\\appdata\\local\\programs\\python\\python312\\lib\\site-packages (from aiohttp->datasets) (1.3.1)\n",
      "Requirement already satisfied: attrs>=17.3.0 in c:\\users\\joshuasimwawa\\appdata\\local\\programs\\python\\python312\\lib\\site-packages (from aiohttp->datasets) (24.2.0)\n",
      "Requirement already satisfied: frozenlist>=1.1.1 in c:\\users\\joshuasimwawa\\appdata\\local\\programs\\python\\python312\\lib\\site-packages (from aiohttp->datasets) (1.4.1)\n",
      "Requirement already satisfied: multidict<7.0,>=4.5 in c:\\users\\joshuasimwawa\\appdata\\local\\programs\\python\\python312\\lib\\site-packages (from aiohttp->datasets) (6.0.5)\n",
      "Requirement already satisfied: yarl<2.0,>=1.0 in c:\\users\\joshuasimwawa\\appdata\\local\\programs\\python\\python312\\lib\\site-packages (from aiohttp->datasets) (1.10.0)\n",
      "Requirement already satisfied: charset-normalizer<4,>=2 in c:\\users\\joshuasimwawa\\appdata\\local\\programs\\python\\python312\\lib\\site-packages (from requests>=2.32.2->datasets) (3.3.2)\n",
      "Requirement already satisfied: idna<4,>=2.5 in c:\\users\\joshuasimwawa\\appdata\\local\\programs\\python\\python312\\lib\\site-packages (from requests>=2.32.2->datasets) (3.8)\n",
      "Requirement already satisfied: colorama in c:\\users\\joshuasimwawa\\appdata\\local\\programs\\python\\python312\\lib\\site-packages (from tqdm>=4.64.1->pinecone) (0.4.6)\n",
      "Requirement already satisfied: python-dateutil>=2.8.2 in c:\\users\\joshuasimwawa\\appdata\\local\\programs\\python\\python312\\lib\\site-packages (from pandas->datasets) (2.9.0.post0)\n",
      "Requirement already satisfied: pytz>=2020.1 in c:\\users\\joshuasimwawa\\appdata\\local\\programs\\python\\python312\\lib\\site-packages (from pandas->datasets) (2024.1)\n",
      "Requirement already satisfied: tzdata>=2022.7 in c:\\users\\joshuasimwawa\\appdata\\local\\programs\\python\\python312\\lib\\site-packages (from pandas->datasets) (2024.1)\n",
      "Requirement already satisfied: six>=1.5 in c:\\users\\joshuasimwawa\\appdata\\local\\programs\\python\\python312\\lib\\site-packages (from python-dateutil>=2.8.2->pandas->datasets) (1.16.0)\n",
      "Downloading pinecone-5.1.0-py3-none-any.whl (245 kB)\n",
      "Downloading transformers-4.44.2-py3-none-any.whl (9.5 MB)\n",
      "   ---------------------------------------- 0.0/9.5 MB ? eta -:--:--\n",
      "   - -------------------------------------- 0.3/9.5 MB ? eta -:--:--\n",
      "   -- ------------------------------------- 0.5/9.5 MB 1.7 MB/s eta 0:00:06\n",
      "   ---- ----------------------------------- 1.0/9.5 MB 2.0 MB/s eta 0:00:05\n",
      "   ------ --------------------------------- 1.6/9.5 MB 2.1 MB/s eta 0:00:04\n",
      "   -------- ------------------------------- 2.1/9.5 MB 2.1 MB/s eta 0:00:04\n",
      "   ----------- ---------------------------- 2.6/9.5 MB 2.1 MB/s eta 0:00:04\n",
      "   ------------ --------------------------- 2.9/9.5 MB 2.1 MB/s eta 0:00:04\n",
      "   -------------- ------------------------- 3.4/9.5 MB 2.1 MB/s eta 0:00:03\n",
      "   ----------------- ---------------------- 4.2/9.5 MB 2.2 MB/s eta 0:00:03\n",
      "   ------------------- -------------------- 4.7/9.5 MB 2.3 MB/s eta 0:00:03\n",
      "   ---------------------- ----------------- 5.2/9.5 MB 2.3 MB/s eta 0:00:02\n",
      "   ----------------------- ---------------- 5.5/9.5 MB 2.3 MB/s eta 0:00:02\n",
      "   ------------------------- -------------- 6.0/9.5 MB 2.3 MB/s eta 0:00:02\n",
      "   --------------------------- ------------ 6.6/9.5 MB 2.3 MB/s eta 0:00:02\n",
      "   ----------------------------- ---------- 7.1/9.5 MB 2.3 MB/s eta 0:00:02\n",
      "   --------------------------------- ------ 7.9/9.5 MB 2.4 MB/s eta 0:00:01\n",
      "   ----------------------------------- ---- 8.4/9.5 MB 2.4 MB/s eta 0:00:01\n",
      "   ------------------------------------- -- 8.9/9.5 MB 2.4 MB/s eta 0:00:01\n",
      "   ---------------------------------------  9.4/9.5 MB 2.4 MB/s eta 0:00:01\n",
      "   ---------------------------------------- 9.5/9.5 MB 2.3 MB/s eta 0:00:00\n",
      "Downloading pinecone_plugin_inference-1.0.3-py3-none-any.whl (117 kB)\n",
      "Downloading pinecone_plugin_interface-0.0.7-py3-none-any.whl (6.2 kB)\n",
      "Downloading tokenizers-0.19.1-cp312-none-win_amd64.whl (2.2 MB)\n",
      "   ---------------------------------------- 0.0/2.2 MB ? eta -:--:--\n",
      "   ---- ----------------------------------- 0.3/2.2 MB ? eta -:--:--\n",
      "   --------- ------------------------------ 0.5/2.2 MB 1.5 MB/s eta 0:00:02\n",
      "   ------------------ --------------------- 1.0/2.2 MB 1.7 MB/s eta 0:00:01\n",
      "   ----------------------- ---------------- 1.3/2.2 MB 1.7 MB/s eta 0:00:01\n",
      "   --------------------------------- ------ 1.8/2.2 MB 1.9 MB/s eta 0:00:01\n",
      "   ---------------------------------------- 2.2/2.2 MB 1.8 MB/s eta 0:00:00\n",
      "Installing collected packages: pinecone-plugin-interface, pinecone-plugin-inference, tokenizers, pinecone, transformers\n",
      "  Attempting uninstall: tokenizers\n",
      "    Found existing installation: tokenizers 0.20.0\n",
      "    Uninstalling tokenizers-0.20.0:\n",
      "      Successfully uninstalled tokenizers-0.20.0\n",
      "Successfully installed pinecone-5.1.0 pinecone-plugin-inference-1.0.3 pinecone-plugin-interface-0.0.7 tokenizers-0.19.1 transformers-4.44.2\n"
     ]
    },
    {
     "name": "stderr",
     "output_type": "stream",
     "text": [
      "ERROR: pip's dependency resolver does not currently take into account all the packages that are installed. This behaviour is the source of the following dependency conflicts.\n",
      "chromadb 0.5.5 requires PyYAML>=6.0.0, but you have pyyaml 5.4.1 which is incompatible.\n"
     ]
    }
   ],
   "source": [
    "!pip install pinecone datasets transformers\n"
   ]
  },
  {
   "cell_type": "code",
   "execution_count": 4,
   "id": "ba7da55b-e4ee-4a60-b894-58494568ae7a",
   "metadata": {},
   "outputs": [
    {
     "name": "stdout",
     "output_type": "stream",
     "text": [
      "Requirement already satisfied: pinecone in c:\\users\\joshuasimwawa\\appdata\\local\\programs\\python\\python312\\lib\\site-packages (5.1.0)\n",
      "Requirement already satisfied: certifi>=2019.11.17 in c:\\users\\joshuasimwawa\\appdata\\local\\programs\\python\\python312\\lib\\site-packages (from pinecone) (2024.8.30)\n",
      "Requirement already satisfied: pinecone-plugin-inference<2.0.0,>=1.0.3 in c:\\users\\joshuasimwawa\\appdata\\local\\programs\\python\\python312\\lib\\site-packages (from pinecone) (1.0.3)\n",
      "Requirement already satisfied: pinecone-plugin-interface<0.0.8,>=0.0.7 in c:\\users\\joshuasimwawa\\appdata\\local\\programs\\python\\python312\\lib\\site-packages (from pinecone) (0.0.7)\n",
      "Requirement already satisfied: tqdm>=4.64.1 in c:\\users\\joshuasimwawa\\appdata\\local\\programs\\python\\python312\\lib\\site-packages (from pinecone) (4.66.5)\n",
      "Requirement already satisfied: typing-extensions>=3.7.4 in c:\\users\\joshuasimwawa\\appdata\\local\\programs\\python\\python312\\lib\\site-packages (from pinecone) (4.12.2)\n",
      "Requirement already satisfied: urllib3>=1.26.5 in c:\\users\\joshuasimwawa\\appdata\\local\\programs\\python\\python312\\lib\\site-packages (from pinecone) (2.2.2)\n",
      "Requirement already satisfied: colorama in c:\\users\\joshuasimwawa\\appdata\\local\\programs\\python\\python312\\lib\\site-packages (from tqdm>=4.64.1->pinecone) (0.4.6)\n"
     ]
    }
   ],
   "source": [
    "!pip install pinecone"
   ]
  },
  {
   "cell_type": "code",
   "execution_count": 16,
   "id": "4035968c-3b13-4605-867a-099d6c962cda",
   "metadata": {},
   "outputs": [
    {
     "name": "stderr",
     "output_type": "stream",
     "text": [
      "The cache for model files in Transformers v4.22.0 has been updated. Migrating your old cache. This is a one-time only operation. You can interrupt this and resume the migration later on by calling `transformers.utils.move_cache()`.\n"
     ]
    },
    {
     "data": {
      "application/vnd.jupyter.widget-view+json": {
       "model_id": "24bb3fdf93bb4900afdb5022e978be87",
       "version_major": 2,
       "version_minor": 0
      },
      "text/plain": [
       "0it [00:00, ?it/s]"
      ]
     },
     "metadata": {},
     "output_type": "display_data"
    },
    {
     "data": {
      "application/vnd.jupyter.widget-view+json": {
       "model_id": "c1acf6de25f3487db19085ea4c9adbd1",
       "version_major": 2,
       "version_minor": 0
      },
      "text/plain": [
       "preprocessor_config.json:   0%|          | 0.00/316 [00:00<?, ?B/s]"
      ]
     },
     "metadata": {},
     "output_type": "display_data"
    },
    {
     "name": "stderr",
     "output_type": "stream",
     "text": [
      "C:\\Users\\JoshuaSimwawa\\AppData\\Local\\Programs\\Python\\Python312\\Lib\\site-packages\\huggingface_hub\\file_download.py:159: UserWarning: `huggingface_hub` cache-system uses symlinks by default to efficiently store duplicated files but your machine does not support them in C:\\Users\\JoshuaSimwawa\\.cache\\huggingface\\hub\\models--openai--clip-vit-base-patch32. Caching files will still work but in a degraded version that might require more space on your disk. This warning can be disabled by setting the `HF_HUB_DISABLE_SYMLINKS_WARNING` environment variable. For more details, see https://huggingface.co/docs/huggingface_hub/how-to-cache#limitations.\n",
      "To support symlinks on Windows, you either need to activate Developer Mode or to run Python as an administrator. In order to see activate developer mode, see this article: https://docs.microsoft.com/en-us/windows/apps/get-started/enable-your-device-for-development\n",
      "  warnings.warn(message)\n"
     ]
    },
    {
     "data": {
      "application/vnd.jupyter.widget-view+json": {
       "model_id": "ac738f33fb814ae39b3d58763d162b73",
       "version_major": 2,
       "version_minor": 0
      },
      "text/plain": [
       "tokenizer_config.json:   0%|          | 0.00/592 [00:00<?, ?B/s]"
      ]
     },
     "metadata": {},
     "output_type": "display_data"
    },
    {
     "data": {
      "application/vnd.jupyter.widget-view+json": {
       "model_id": "3a476c3deb2b4460939f110983f587d5",
       "version_major": 2,
       "version_minor": 0
      },
      "text/plain": [
       "vocab.json:   0%|          | 0.00/862k [00:00<?, ?B/s]"
      ]
     },
     "metadata": {},
     "output_type": "display_data"
    },
    {
     "data": {
      "application/vnd.jupyter.widget-view+json": {
       "model_id": "c630b1c79e89489eadd657f0d110130c",
       "version_major": 2,
       "version_minor": 0
      },
      "text/plain": [
       "merges.txt:   0%|          | 0.00/525k [00:00<?, ?B/s]"
      ]
     },
     "metadata": {},
     "output_type": "display_data"
    },
    {
     "data": {
      "application/vnd.jupyter.widget-view+json": {
       "model_id": "b5517b05d818411ba92bd2603175dec5",
       "version_major": 2,
       "version_minor": 0
      },
      "text/plain": [
       "tokenizer.json:   0%|          | 0.00/2.22M [00:00<?, ?B/s]"
      ]
     },
     "metadata": {},
     "output_type": "display_data"
    },
    {
     "data": {
      "application/vnd.jupyter.widget-view+json": {
       "model_id": "40656991b02a4fbc9fffb1914fc948b5",
       "version_major": 2,
       "version_minor": 0
      },
      "text/plain": [
       "special_tokens_map.json:   0%|          | 0.00/389 [00:00<?, ?B/s]"
      ]
     },
     "metadata": {},
     "output_type": "display_data"
    },
    {
     "data": {
      "application/vnd.jupyter.widget-view+json": {
       "model_id": "f590d4b7e148451496003c27c22a3a41",
       "version_major": 2,
       "version_minor": 0
      },
      "text/plain": [
       "config.json:   0%|          | 0.00/4.19k [00:00<?, ?B/s]"
      ]
     },
     "metadata": {},
     "output_type": "display_data"
    },
    {
     "name": "stderr",
     "output_type": "stream",
     "text": [
      "C:\\Users\\JoshuaSimwawa\\AppData\\Local\\Programs\\Python\\Python312\\Lib\\site-packages\\transformers\\tokenization_utils_base.py:1601: FutureWarning: `clean_up_tokenization_spaces` was not set. It will be set to `True` by default. This behavior will be depracted in transformers v4.45, and will be then set to `False` by default. For more details check this issue: https://github.com/huggingface/transformers/issues/31884\n",
      "  warnings.warn(\n"
     ]
    },
    {
     "data": {
      "application/vnd.jupyter.widget-view+json": {
       "model_id": "0a5f21da8fe84e1b97b6cb8976e6b1f0",
       "version_major": 2,
       "version_minor": 0
      },
      "text/plain": [
       "pytorch_model.bin:   0%|          | 0.00/605M [00:00<?, ?B/s]"
      ]
     },
     "metadata": {},
     "output_type": "display_data"
    },
    {
     "data": {
      "text/plain": [
       "CLIPModel(\n",
       "  (text_model): CLIPTextTransformer(\n",
       "    (embeddings): CLIPTextEmbeddings(\n",
       "      (token_embedding): Embedding(49408, 512)\n",
       "      (position_embedding): Embedding(77, 512)\n",
       "    )\n",
       "    (encoder): CLIPEncoder(\n",
       "      (layers): ModuleList(\n",
       "        (0-11): 12 x CLIPEncoderLayer(\n",
       "          (self_attn): CLIPSdpaAttention(\n",
       "            (k_proj): Linear(in_features=512, out_features=512, bias=True)\n",
       "            (v_proj): Linear(in_features=512, out_features=512, bias=True)\n",
       "            (q_proj): Linear(in_features=512, out_features=512, bias=True)\n",
       "            (out_proj): Linear(in_features=512, out_features=512, bias=True)\n",
       "          )\n",
       "          (layer_norm1): LayerNorm((512,), eps=1e-05, elementwise_affine=True)\n",
       "          (mlp): CLIPMLP(\n",
       "            (activation_fn): QuickGELUActivation()\n",
       "            (fc1): Linear(in_features=512, out_features=2048, bias=True)\n",
       "            (fc2): Linear(in_features=2048, out_features=512, bias=True)\n",
       "          )\n",
       "          (layer_norm2): LayerNorm((512,), eps=1e-05, elementwise_affine=True)\n",
       "        )\n",
       "      )\n",
       "    )\n",
       "    (final_layer_norm): LayerNorm((512,), eps=1e-05, elementwise_affine=True)\n",
       "  )\n",
       "  (vision_model): CLIPVisionTransformer(\n",
       "    (embeddings): CLIPVisionEmbeddings(\n",
       "      (patch_embedding): Conv2d(3, 768, kernel_size=(32, 32), stride=(32, 32), bias=False)\n",
       "      (position_embedding): Embedding(50, 768)\n",
       "    )\n",
       "    (pre_layrnorm): LayerNorm((768,), eps=1e-05, elementwise_affine=True)\n",
       "    (encoder): CLIPEncoder(\n",
       "      (layers): ModuleList(\n",
       "        (0-11): 12 x CLIPEncoderLayer(\n",
       "          (self_attn): CLIPSdpaAttention(\n",
       "            (k_proj): Linear(in_features=768, out_features=768, bias=True)\n",
       "            (v_proj): Linear(in_features=768, out_features=768, bias=True)\n",
       "            (q_proj): Linear(in_features=768, out_features=768, bias=True)\n",
       "            (out_proj): Linear(in_features=768, out_features=768, bias=True)\n",
       "          )\n",
       "          (layer_norm1): LayerNorm((768,), eps=1e-05, elementwise_affine=True)\n",
       "          (mlp): CLIPMLP(\n",
       "            (activation_fn): QuickGELUActivation()\n",
       "            (fc1): Linear(in_features=768, out_features=3072, bias=True)\n",
       "            (fc2): Linear(in_features=3072, out_features=768, bias=True)\n",
       "          )\n",
       "          (layer_norm2): LayerNorm((768,), eps=1e-05, elementwise_affine=True)\n",
       "        )\n",
       "      )\n",
       "    )\n",
       "    (post_layernorm): LayerNorm((768,), eps=1e-05, elementwise_affine=True)\n",
       "  )\n",
       "  (visual_projection): Linear(in_features=768, out_features=512, bias=False)\n",
       "  (text_projection): Linear(in_features=512, out_features=512, bias=False)\n",
       ")"
      ]
     },
     "execution_count": 16,
     "metadata": {},
     "output_type": "execute_result"
    }
   ],
   "source": [
    "from transformers import CLIPProcessor, CLIPModel\n",
    "import torch\n",
    "\n",
    "model_id = \"openai/clip-vit-base-patch32\"\n",
    "\n",
    "processor = CLIPProcessor.from_pretrained(model_id)\n",
    "model = CLIPModel.from_pretrained(model_id)\n",
    "\n",
    "# move model to device if possible\n",
    "device = 'cuda' if torch.cuda.is_available() else 'cpu'\n",
    "model.to(device)"
   ]
  },
  {
   "cell_type": "code",
   "execution_count": 17,
   "id": "e49fe365-eff0-465d-97d7-29c2ed33671c",
   "metadata": {},
   "outputs": [],
   "source": [
    "def create_image_embeddings(image):\n",
    "  vals = processor(\n",
    "      text=None,\n",
    "      images=image,\n",
    "      return_tensors='pt')['pixel_values'].to(device)\n",
    "  image_embedding = model.get_image_features(vals)\n",
    "  return image_embedding[0]\n",
    "\n",
    "\n",
    "# We will embed the images and search with text"
   ]
  },
  {
   "cell_type": "code",
   "execution_count": 22,
   "id": "1315eba0-7035-4118-af68-34fb11af412c",
   "metadata": {},
   "outputs": [],
   "source": [
    "# We will embed the images and search with text\n",
    "\n",
    "from IPython.display import Image \n",
    "\n",
    "def apply_vectorization(data):\n",
    "\n",
    "  data[\"image_embeddings\"] = create_image_embeddings(data[\"image\"])\n",
    "  return data\n",
    "\n",
    "\n",
    "\n"
   ]
  },
  {
   "cell_type": "code",
   "execution_count": null,
   "id": "74803170-c8b9-412c-a787-826e3fff239d",
   "metadata": {},
   "outputs": [],
   "source": [
    "data = data.map(apply_vectorization)"
   ]
  },
  {
   "cell_type": "code",
   "execution_count": 28,
   "id": "29b8d78e-0c0f-4eb0-bf1c-2c0dc4e1e50b",
   "metadata": {},
   "outputs": [
    {
     "data": {
      "text/plain": [
       "Dataset({\n",
       "    features: ['text', 'image', 'image_embeddings', 'id'],\n",
       "    num_rows: 21\n",
       "})"
      ]
     },
     "execution_count": 28,
     "metadata": {},
     "output_type": "execute_result"
    }
   ],
   "source": [
    "data"
   ]
  },
  {
   "cell_type": "code",
   "execution_count": 23,
   "id": "0e23ffda-b1b1-43d4-ace9-5607225cd6f7",
   "metadata": {},
   "outputs": [
    {
     "data": {
      "application/vnd.jupyter.widget-view+json": {
       "model_id": "2770080b20804d1889fad89a47812210",
       "version_major": 2,
       "version_minor": 0
      },
      "text/plain": [
       "Map:   0%|          | 0/21 [00:00<?, ? examples/s]"
      ]
     },
     "metadata": {},
     "output_type": "display_data"
    }
   ],
   "source": [
    "data = data.map(apply_vectorization)\n",
    "# add an id column for easy indexing later\n",
    "ids = [str(i) for i in range(0, data.num_rows)]\n",
    "data = data.add_column(\"id\", ids)"
   ]
  },
  {
   "cell_type": "code",
   "execution_count": 24,
   "id": "3d90e368-676b-4484-9c82-3e3b186c150a",
   "metadata": {},
   "outputs": [
    {
     "data": {
      "text/plain": [
       "upserted_count: 21"
      ]
     },
     "execution_count": 24,
     "metadata": {},
     "output_type": "execute_result"
    }
   ],
   "source": [
    "vectors = []\n",
    "for i in range(0, data.num_rows):\n",
    "  d = data[i]\n",
    "  vectors.append({\n",
    "      \"id\": d[\"id\"],\n",
    "      \"values\": d[\"image_embeddings\"],\n",
    "      \"metadata\": {\"caption\": d[\"text\"]}\n",
    "  })\n",
    "\n",
    "index.upsert(\n",
    "    vectors=vectors,\n",
    "    namespace=\"ns1\"\n",
    ")"
   ]
  },
  {
   "cell_type": "code",
   "execution_count": 26,
   "id": "53b17ce7-c555-4340-9c41-fdecc0eed1cc",
   "metadata": {},
   "outputs": [],
   "source": [
    "# ClIP allows for both text and image embeddings\n",
    "\n",
    "def create_text_embeddings(text):\n",
    "  text_embedding = processor(text=text,\n",
    "      padding=True,\n",
    "      images=None,\n",
    "      return_tensors='pt').to(device)\n",
    "\n",
    "  text_emb = model.get_text_features(**text_embedding)\n",
    "  return text_emb[0]"
   ]
  },
  {
   "cell_type": "code",
   "execution_count": 27,
   "id": "466c3c46-26dd-40b7-af33-5438b13fdaa4",
   "metadata": {},
   "outputs": [
    {
     "name": "stdout",
     "output_type": "stream",
     "text": [
      "{'matches': [{'id': '14',\n",
      "              'metadata': {'caption': 'new york city street view with yellow '\n",
      "                                      'cabs'},\n",
      "              'score': 0.26480705,\n",
      "              'sparse_values': {'indices': [], 'values': []},\n",
      "              'values': []},\n",
      "             {'id': '1',\n",
      "              'metadata': {'caption': 'aerial shot of modern city at sunrise'},\n",
      "              'score': 0.26456887,\n",
      "              'sparse_values': {'indices': [], 'values': []},\n",
      "              'values': []},\n",
      "             {'id': '16',\n",
      "              'metadata': {'caption': 'suburban area with city skyline in '\n",
      "                                      'distance'},\n",
      "              'score': 0.2634125,\n",
      "              'sparse_values': {'indices': [], 'values': []},\n",
      "              'values': []}],\n",
      " 'namespace': 'ns1',\n",
      " 'usage': {'read_units': 6}}\n"
     ]
    }
   ],
   "source": [
    "query = \"Show me a photo of a city\"\n",
    "\n",
    "x = create_text_embeddings(query).tolist()\n",
    "\n",
    "results = index.query(\n",
    "    namespace=\"ns1\",\n",
    "    vector=x,\n",
    "    top_k=3,\n",
    "    include_values=False,\n",
    "    include_metadata=True\n",
    ")\n",
    "print(results)"
   ]
  },
  {
   "cell_type": "code",
   "execution_count": null,
   "id": "82e9928e-76ab-411b-8bc0-be4165a2fc22",
   "metadata": {},
   "outputs": [],
   "source": []
  }
 ],
 "metadata": {
  "kernelspec": {
   "display_name": "Python 3 (ipykernel)",
   "language": "python",
   "name": "python3"
  },
  "language_info": {
   "codemirror_mode": {
    "name": "ipython",
    "version": 3
   },
   "file_extension": ".py",
   "mimetype": "text/x-python",
   "name": "python",
   "nbconvert_exporter": "python",
   "pygments_lexer": "ipython3",
   "version": "3.12.5"
  }
 },
 "nbformat": 4,
 "nbformat_minor": 5
}
